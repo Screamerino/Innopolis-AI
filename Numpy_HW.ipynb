{
 "cells": [
  {
   "cell_type": "code",
   "execution_count": 1,
   "id": "46c6ff3e-25f7-4558-8163-1c8f09b83bd3",
   "metadata": {},
   "outputs": [
    {
     "name": "stdout",
     "output_type": "stream",
     "text": [
      "Requirement already satisfied: numpy in e:\\projects\\innopolis_ai\\venv\\lib\\site-packages (1.25.0)\n"
     ]
    },
    {
     "name": "stderr",
     "output_type": "stream",
     "text": [
      "\n",
      "[notice] A new release of pip available: 22.3.1 -> 23.2\n",
      "[notice] To update, run: python.exe -m pip install --upgrade pip\n"
     ]
    }
   ],
   "source": [
    "!pip install numpy"
   ]
  },
  {
   "cell_type": "code",
   "execution_count": 2,
   "id": "9caf8c08-d598-4f79-b4eb-b8f0781d963f",
   "metadata": {},
   "outputs": [],
   "source": [
    "import numpy as np"
   ]
  },
  {
   "cell_type": "markdown",
   "id": "a093fe20-62c3-46ce-9aab-1f545d9852e6",
   "metadata": {},
   "source": [
    "<h2>Задача 1</h2>"
   ]
  },
  {
   "cell_type": "code",
   "execution_count": 3,
   "id": "4be4d1ad-6870-4a8f-87b4-3330fb132cc9",
   "metadata": {},
   "outputs": [],
   "source": [
    "a = np.array([\n",
    "    [1, 2, 1],\n",
    "    [-2, 1, 1],\n",
    "])\n",
    "b = np.array([\n",
    "    [3, 1],\n",
    "    [-1, 0],\n",
    "    [2, 4]\n",
    "])\n",
    "c = np.array([\n",
    "    [-2, 2],\n",
    "    [1, -1],\n",
    "    [1, 2],\n",
    "])"
   ]
  },
  {
   "cell_type": "markdown",
   "id": "7af93633-44eb-460d-9d97-59094ebe5343",
   "metadata": {},
   "source": [
    "<p>A + 2B</p>"
   ]
  },
  {
   "cell_type": "code",
   "execution_count": 5,
   "id": "ff0f6cab-811b-40f8-a979-43f8396fd0fb",
   "metadata": {},
   "outputs": [
    {
     "data": {
      "text/plain": [
       "array([[7, 0],\n",
       "       [0, 1],\n",
       "       [5, 9]])"
      ]
     },
     "execution_count": 5,
     "metadata": {},
     "output_type": "execute_result"
    }
   ],
   "source": [
    "a.T + 2 * b"
   ]
  },
  {
   "cell_type": "markdown",
   "id": "da9ea698-f023-42a9-a705-7dd5ecadce99",
   "metadata": {},
   "source": [
    "B + 2C"
   ]
  },
  {
   "cell_type": "code",
   "execution_count": 6,
   "id": "f773d6af-258e-4ba8-8781-f661e06f566c",
   "metadata": {},
   "outputs": [
    {
     "data": {
      "text/plain": [
       "array([[-1,  5],\n",
       "       [ 1, -2],\n",
       "       [ 4,  8]])"
      ]
     },
     "execution_count": 6,
     "metadata": {},
     "output_type": "execute_result"
    }
   ],
   "source": [
    "b + 2 * c"
   ]
  },
  {
   "cell_type": "markdown",
   "id": "c6ab6e96-c2a6-420d-8180-eba3dda93790",
   "metadata": {},
   "source": [
    "<h2>Задача 2</h2>"
   ]
  },
  {
   "cell_type": "code",
   "execution_count": 23,
   "id": "9d35ea95-217e-4468-990d-21c2d549ba4f",
   "metadata": {},
   "outputs": [],
   "source": [
    "matrix = np.zeros((8, 8), dtype=np.uint8)"
   ]
  },
  {
   "cell_type": "code",
   "execution_count": 24,
   "id": "c3a3a758-7ec0-42ed-ad28-e0794ff6e976",
   "metadata": {},
   "outputs": [],
   "source": [
    "matrix[::2, 1::2] = 1"
   ]
  },
  {
   "cell_type": "code",
   "execution_count": 25,
   "id": "0f3c16df-6b21-4f60-8b3d-710dde0bfb43",
   "metadata": {},
   "outputs": [],
   "source": [
    "matrix[1::2, 0::2] = 1"
   ]
  },
  {
   "cell_type": "code",
   "execution_count": 26,
   "id": "6c7b4fcd-c9dc-4485-a1a5-77e137b77339",
   "metadata": {},
   "outputs": [
    {
     "data": {
      "text/plain": [
       "array([[0, 1, 0, 1, 0, 1, 0, 1],\n",
       "       [1, 0, 1, 0, 1, 0, 1, 0],\n",
       "       [0, 1, 0, 1, 0, 1, 0, 1],\n",
       "       [1, 0, 1, 0, 1, 0, 1, 0],\n",
       "       [0, 1, 0, 1, 0, 1, 0, 1],\n",
       "       [1, 0, 1, 0, 1, 0, 1, 0],\n",
       "       [0, 1, 0, 1, 0, 1, 0, 1],\n",
       "       [1, 0, 1, 0, 1, 0, 1, 0]], dtype=uint8)"
      ]
     },
     "execution_count": 26,
     "metadata": {},
     "output_type": "execute_result"
    }
   ],
   "source": [
    "matrix"
   ]
  },
  {
   "cell_type": "markdown",
   "id": "7abf8467-58c3-4d82-bce3-44b59992a4e7",
   "metadata": {},
   "source": [
    "<h2>Задача 3</h2>"
   ]
  },
  {
   "cell_type": "code",
   "execution_count": 40,
   "id": "e18373d8-4cc9-49b8-ba16-432402d5e5de",
   "metadata": {},
   "outputs": [],
   "source": [
    "vector1 = np.linspace(0, 1.4, 15)\n",
    "vector2 = np.linspace(1, 6, 6)"
   ]
  },
  {
   "cell_type": "code",
   "execution_count": 41,
   "id": "b5d8ffc2-2be7-48d6-b686-dacdb8fd94ce",
   "metadata": {},
   "outputs": [],
   "source": [
    "matrix1 = np.reshape(vector1, (5, 3))\n",
    "matrix2 = np.reshape(vector2, (3, 2))"
   ]
  },
  {
   "cell_type": "code",
   "execution_count": 42,
   "id": "8a364014-f8cf-4fe0-a3bc-47cd65d4b1f7",
   "metadata": {},
   "outputs": [],
   "source": [
    "result = matrix1 @ matrix2 "
   ]
  },
  {
   "cell_type": "code",
   "execution_count": 43,
   "id": "f5f3a1d6-4665-459d-90cc-b0ec87d020af",
   "metadata": {},
   "outputs": [
    {
     "data": {
      "text/plain": [
       "array([[0. , 0.1, 0.2],\n",
       "       [0.3, 0.4, 0.5],\n",
       "       [0.6, 0.7, 0.8],\n",
       "       [0.9, 1. , 1.1],\n",
       "       [1.2, 1.3, 1.4]])"
      ]
     },
     "execution_count": 43,
     "metadata": {},
     "output_type": "execute_result"
    }
   ],
   "source": [
    "matrix1"
   ]
  },
  {
   "cell_type": "code",
   "execution_count": 44,
   "id": "ecc66443-460d-459d-a445-55542b746c91",
   "metadata": {},
   "outputs": [
    {
     "data": {
      "text/plain": [
       "array([[1., 2.],\n",
       "       [3., 4.],\n",
       "       [5., 6.]])"
      ]
     },
     "execution_count": 44,
     "metadata": {},
     "output_type": "execute_result"
    }
   ],
   "source": [
    "matrix2"
   ]
  },
  {
   "cell_type": "code",
   "execution_count": 45,
   "id": "6892d30a-5b4c-44e7-923c-be881a0154d1",
   "metadata": {},
   "outputs": [
    {
     "data": {
      "text/plain": [
       "array([[ 1.3,  1.6],\n",
       "       [ 4. ,  5.2],\n",
       "       [ 6.7,  8.8],\n",
       "       [ 9.4, 12.4],\n",
       "       [12.1, 16. ]])"
      ]
     },
     "execution_count": 45,
     "metadata": {},
     "output_type": "execute_result"
    }
   ],
   "source": [
    "result"
   ]
  },
  {
   "cell_type": "markdown",
   "id": "d6dd2b4b-9ac0-415a-bed6-1d58b7db6dba",
   "metadata": {},
   "source": [
    "<h2>Задача 4</h2>"
   ]
  },
  {
   "cell_type": "code",
   "execution_count": 47,
   "id": "d9c9a7e4-5b66-44d8-829e-f1aa91c23521",
   "metadata": {},
   "outputs": [],
   "source": [
    "vector = np.array([2 * i + 1 for i in range(36)], dtype=np.int32)"
   ]
  },
  {
   "cell_type": "code",
   "execution_count": 51,
   "id": "8c39b4c6-f151-4999-ac1e-698b6f2dc72b",
   "metadata": {},
   "outputs": [
    {
     "data": {
      "text/plain": [
       "array([ 1,  3,  5,  7,  9, 11, 13, 15, 17, 19, 21, 23, 25, 27, 29, 31, 33,\n",
       "       35, 37, 39, 41, 43, 45, 47, 49, 51, 53, 55, 57, 59, 61, 63, 65, 67,\n",
       "       69, 71])"
      ]
     },
     "execution_count": 51,
     "metadata": {},
     "output_type": "execute_result"
    }
   ],
   "source": [
    "vector"
   ]
  },
  {
   "cell_type": "code",
   "execution_count": 50,
   "id": "c70af0ba-55d0-4085-8e1c-697cdc66610d",
   "metadata": {},
   "outputs": [
    {
     "data": {
      "text/plain": [
       "array([ 3,  9, 15, 21, 27, 33, 39, 45, 51, 57, 63, 69])"
      ]
     },
     "execution_count": 50,
     "metadata": {},
     "output_type": "execute_result"
    }
   ],
   "source": [
    "vector[vector % 3 == 0]"
   ]
  }
 ],
 "metadata": {
  "kernelspec": {
   "display_name": "Python 3 (ipykernel)",
   "language": "python",
   "name": "python3"
  },
  "language_info": {
   "codemirror_mode": {
    "name": "ipython",
    "version": 3
   },
   "file_extension": ".py",
   "mimetype": "text/x-python",
   "name": "python",
   "nbconvert_exporter": "python",
   "pygments_lexer": "ipython3",
   "version": "3.11.1"
  }
 },
 "nbformat": 4,
 "nbformat_minor": 5
}
