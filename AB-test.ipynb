{
 "cells": [
  {
   "cell_type": "code",
   "execution_count": 1,
   "id": "a5817064-633e-40dc-8725-8d6b3963a819",
   "metadata": {},
   "outputs": [],
   "source": [
    "import sqlite3\n",
    "import pandas as pd"
   ]
  },
  {
   "cell_type": "markdown",
   "id": "2a821343-d999-4658-904f-734b2844cf91",
   "metadata": {},
   "source": [
    "Найденный датасет представляет собой реальный набор данных от образовательной компании. У них есть своя платформа, где каждый студент может проверить правильность своего решения и получить другую обратную связь. Таблица checker хранит журналы регистрации того, когда и какие лабораторки проверяли пользователи. Компания решила создать новую страницу на платформе, Newsfeed, где эти журналы видны всем студентам программы. Журналы посещений страницы хранятся в другой таблице - pageviews. Гипотеза заключалась в том, что эта страница создаст давление со стороны сверстников, и студенты начнут работать над лабораторными работами раньше. Это может быть хорошо, потому что они смогут сделать больше итераций и попробовать разные подходы. В этой серии упражнений вы попытаетесь выяснить, верна ли эта гипотеза."
   ]
  },
  {
   "cell_type": "code",
   "execution_count": 2,
   "id": "0d6600eb-e41e-4b3f-aff9-0ebde0f282a1",
   "metadata": {},
   "outputs": [],
   "source": [
    "con = sqlite3.connect(\"data/checking-logs.sqlite.sqlite_copy\")"
   ]
  },
  {
   "cell_type": "markdown",
   "id": "3ab78348-0f34-45ed-807d-786e69212ef6",
   "metadata": {},
   "source": [
    "<h2>Таблица Pageviews</h2>"
   ]
  },
  {
   "cell_type": "code",
   "execution_count": 3,
   "id": "bbf3b9f7-88d9-4213-8121-8a36a20954b9",
   "metadata": {},
   "outputs": [
    {
     "data": {
      "text/html": [
       "<div>\n",
       "<style scoped>\n",
       "    .dataframe tbody tr th:only-of-type {\n",
       "        vertical-align: middle;\n",
       "    }\n",
       "\n",
       "    .dataframe tbody tr th {\n",
       "        vertical-align: top;\n",
       "    }\n",
       "\n",
       "    .dataframe thead th {\n",
       "        text-align: right;\n",
       "    }\n",
       "</style>\n",
       "<table border=\"1\" class=\"dataframe\">\n",
       "  <thead>\n",
       "    <tr style=\"text-align: right;\">\n",
       "      <th></th>\n",
       "      <th>cid</th>\n",
       "      <th>name</th>\n",
       "      <th>type</th>\n",
       "      <th>notnull</th>\n",
       "      <th>dflt_value</th>\n",
       "      <th>pk</th>\n",
       "    </tr>\n",
       "  </thead>\n",
       "  <tbody>\n",
       "    <tr>\n",
       "      <th>0</th>\n",
       "      <td>0</td>\n",
       "      <td>index</td>\n",
       "      <td>INTEGER</td>\n",
       "      <td>0</td>\n",
       "      <td>None</td>\n",
       "      <td>0</td>\n",
       "    </tr>\n",
       "    <tr>\n",
       "      <th>1</th>\n",
       "      <td>1</td>\n",
       "      <td>uid</td>\n",
       "      <td>TEXT</td>\n",
       "      <td>0</td>\n",
       "      <td>None</td>\n",
       "      <td>0</td>\n",
       "    </tr>\n",
       "    <tr>\n",
       "      <th>2</th>\n",
       "      <td>2</td>\n",
       "      <td>datetime</td>\n",
       "      <td>TIMESTAMP</td>\n",
       "      <td>0</td>\n",
       "      <td>None</td>\n",
       "      <td>0</td>\n",
       "    </tr>\n",
       "  </tbody>\n",
       "</table>\n",
       "</div>"
      ],
      "text/plain": [
       "   cid      name       type  notnull dflt_value  pk\n",
       "0    0     index    INTEGER        0       None   0\n",
       "1    1       uid       TEXT        0       None   0\n",
       "2    2  datetime  TIMESTAMP        0       None   0"
      ]
     },
     "execution_count": 3,
     "metadata": {},
     "output_type": "execute_result"
    }
   ],
   "source": [
    "pd.read_sql('PRAGMA table_info(pageviews);', con)"
   ]
  },
  {
   "cell_type": "markdown",
   "id": "36dbde56-7958-403d-b6e9-040e7c109a6d",
   "metadata": {},
   "source": [
    "Таблица pageviews состоит из столбца с числовым нарастающим индексом (не интересует), uid - идентификатор пользователя, datetime - дата посещения новостной платформы. Эти поля нам пригодятся для анализа. Пример данных"
   ]
  },
  {
   "cell_type": "code",
   "execution_count": 4,
   "id": "273696b8-5c57-4f10-8a5e-aa28cd458e97",
   "metadata": {},
   "outputs": [
    {
     "data": {
      "text/html": [
       "<div>\n",
       "<style scoped>\n",
       "    .dataframe tbody tr th:only-of-type {\n",
       "        vertical-align: middle;\n",
       "    }\n",
       "\n",
       "    .dataframe tbody tr th {\n",
       "        vertical-align: top;\n",
       "    }\n",
       "\n",
       "    .dataframe thead th {\n",
       "        text-align: right;\n",
       "    }\n",
       "</style>\n",
       "<table border=\"1\" class=\"dataframe\">\n",
       "  <thead>\n",
       "    <tr style=\"text-align: right;\">\n",
       "      <th></th>\n",
       "      <th>index</th>\n",
       "      <th>uid</th>\n",
       "      <th>datetime</th>\n",
       "    </tr>\n",
       "  </thead>\n",
       "  <tbody>\n",
       "    <tr>\n",
       "      <th>0</th>\n",
       "      <td>0</td>\n",
       "      <td>admin_1</td>\n",
       "      <td>2020-04-17 12:01:08.463179</td>\n",
       "    </tr>\n",
       "    <tr>\n",
       "      <th>1</th>\n",
       "      <td>1</td>\n",
       "      <td>admin_1</td>\n",
       "      <td>2020-04-17 12:01:23.743946</td>\n",
       "    </tr>\n",
       "    <tr>\n",
       "      <th>2</th>\n",
       "      <td>2</td>\n",
       "      <td>admin_3</td>\n",
       "      <td>2020-04-17 12:17:39.287778</td>\n",
       "    </tr>\n",
       "    <tr>\n",
       "      <th>3</th>\n",
       "      <td>3</td>\n",
       "      <td>admin_3</td>\n",
       "      <td>2020-04-17 12:17:40.001768</td>\n",
       "    </tr>\n",
       "    <tr>\n",
       "      <th>4</th>\n",
       "      <td>4</td>\n",
       "      <td>admin_1</td>\n",
       "      <td>2020-04-17 12:27:30.646665</td>\n",
       "    </tr>\n",
       "    <tr>\n",
       "      <th>5</th>\n",
       "      <td>5</td>\n",
       "      <td>admin_1</td>\n",
       "      <td>2020-04-17 12:35:44.884757</td>\n",
       "    </tr>\n",
       "    <tr>\n",
       "      <th>6</th>\n",
       "      <td>6</td>\n",
       "      <td>admin_1</td>\n",
       "      <td>2020-04-17 12:35:52.735016</td>\n",
       "    </tr>\n",
       "    <tr>\n",
       "      <th>7</th>\n",
       "      <td>7</td>\n",
       "      <td>admin_3</td>\n",
       "      <td>2020-04-17 12:36:21.401412</td>\n",
       "    </tr>\n",
       "    <tr>\n",
       "      <th>8</th>\n",
       "      <td>8</td>\n",
       "      <td>admin_3</td>\n",
       "      <td>2020-04-17 12:36:22.023355</td>\n",
       "    </tr>\n",
       "    <tr>\n",
       "      <th>9</th>\n",
       "      <td>9</td>\n",
       "      <td>admin_1</td>\n",
       "      <td>2020-04-17 13:55:19.129243</td>\n",
       "    </tr>\n",
       "  </tbody>\n",
       "</table>\n",
       "</div>"
      ],
      "text/plain": [
       "   index      uid                    datetime\n",
       "0      0  admin_1  2020-04-17 12:01:08.463179\n",
       "1      1  admin_1  2020-04-17 12:01:23.743946\n",
       "2      2  admin_3  2020-04-17 12:17:39.287778\n",
       "3      3  admin_3  2020-04-17 12:17:40.001768\n",
       "4      4  admin_1  2020-04-17 12:27:30.646665\n",
       "5      5  admin_1  2020-04-17 12:35:44.884757\n",
       "6      6  admin_1  2020-04-17 12:35:52.735016\n",
       "7      7  admin_3  2020-04-17 12:36:21.401412\n",
       "8      8  admin_3  2020-04-17 12:36:22.023355\n",
       "9      9  admin_1  2020-04-17 13:55:19.129243"
      ]
     },
     "execution_count": 4,
     "metadata": {},
     "output_type": "execute_result"
    }
   ],
   "source": [
    "pd.read_sql('SELECT * FROM pageviews LIMIT 10;', con)"
   ]
  },
  {
   "cell_type": "markdown",
   "id": "006bee0b-ee3a-4341-8fd5-5e54ea42bd38",
   "metadata": {},
   "source": [
    "<h2>Таблица Checker</h2>\n"
   ]
  },
  {
   "cell_type": "code",
   "execution_count": 5,
   "id": "45f1052f-6550-40db-9561-fc6acd485da1",
   "metadata": {},
   "outputs": [
    {
     "data": {
      "text/html": [
       "<div>\n",
       "<style scoped>\n",
       "    .dataframe tbody tr th:only-of-type {\n",
       "        vertical-align: middle;\n",
       "    }\n",
       "\n",
       "    .dataframe tbody tr th {\n",
       "        vertical-align: top;\n",
       "    }\n",
       "\n",
       "    .dataframe thead th {\n",
       "        text-align: right;\n",
       "    }\n",
       "</style>\n",
       "<table border=\"1\" class=\"dataframe\">\n",
       "  <thead>\n",
       "    <tr style=\"text-align: right;\">\n",
       "      <th></th>\n",
       "      <th>cid</th>\n",
       "      <th>name</th>\n",
       "      <th>type</th>\n",
       "      <th>notnull</th>\n",
       "      <th>dflt_value</th>\n",
       "      <th>pk</th>\n",
       "    </tr>\n",
       "  </thead>\n",
       "  <tbody>\n",
       "    <tr>\n",
       "      <th>0</th>\n",
       "      <td>0</td>\n",
       "      <td>index</td>\n",
       "      <td>INTEGER</td>\n",
       "      <td>0</td>\n",
       "      <td>None</td>\n",
       "      <td>0</td>\n",
       "    </tr>\n",
       "    <tr>\n",
       "      <th>1</th>\n",
       "      <td>1</td>\n",
       "      <td>status</td>\n",
       "      <td>TEXT</td>\n",
       "      <td>0</td>\n",
       "      <td>None</td>\n",
       "      <td>0</td>\n",
       "    </tr>\n",
       "    <tr>\n",
       "      <th>2</th>\n",
       "      <td>2</td>\n",
       "      <td>success</td>\n",
       "      <td>INTEGER</td>\n",
       "      <td>0</td>\n",
       "      <td>None</td>\n",
       "      <td>0</td>\n",
       "    </tr>\n",
       "    <tr>\n",
       "      <th>3</th>\n",
       "      <td>3</td>\n",
       "      <td>timestamp</td>\n",
       "      <td>TIMESTAMP</td>\n",
       "      <td>0</td>\n",
       "      <td>None</td>\n",
       "      <td>0</td>\n",
       "    </tr>\n",
       "    <tr>\n",
       "      <th>4</th>\n",
       "      <td>4</td>\n",
       "      <td>numTrials</td>\n",
       "      <td>INTEGER</td>\n",
       "      <td>0</td>\n",
       "      <td>None</td>\n",
       "      <td>0</td>\n",
       "    </tr>\n",
       "    <tr>\n",
       "      <th>5</th>\n",
       "      <td>5</td>\n",
       "      <td>labname</td>\n",
       "      <td>TEXT</td>\n",
       "      <td>0</td>\n",
       "      <td>None</td>\n",
       "      <td>0</td>\n",
       "    </tr>\n",
       "    <tr>\n",
       "      <th>6</th>\n",
       "      <td>6</td>\n",
       "      <td>uid</td>\n",
       "      <td>TEXT</td>\n",
       "      <td>0</td>\n",
       "      <td>None</td>\n",
       "      <td>0</td>\n",
       "    </tr>\n",
       "  </tbody>\n",
       "</table>\n",
       "</div>"
      ],
      "text/plain": [
       "   cid       name       type  notnull dflt_value  pk\n",
       "0    0      index    INTEGER        0       None   0\n",
       "1    1     status       TEXT        0       None   0\n",
       "2    2    success    INTEGER        0       None   0\n",
       "3    3  timestamp  TIMESTAMP        0       None   0\n",
       "4    4  numTrials    INTEGER        0       None   0\n",
       "5    5    labname       TEXT        0       None   0\n",
       "6    6        uid       TEXT        0       None   0"
      ]
     },
     "execution_count": 5,
     "metadata": {},
     "output_type": "execute_result"
    }
   ],
   "source": [
    "pd.read_sql('PRAGMA table_info(checker);', con)"
   ]
  },
  {
   "cell_type": "markdown",
   "id": "613fa253-cdc1-49da-8a1f-14b261e8fda2",
   "metadata": {},
   "source": [
    "Таблица **checker** состоит из колонок: *index* - числовой нарастающий номер строки (не интересует), *status* - статус лабараторки (checking, ready), *success* - показатель успешно выполненной работы, *timestamp* - дата записи лога, *numTrials* - количество попыток, *labname* - название лабки, *uid* - идентификатор пользователя. Пример данных"
   ]
  },
  {
   "cell_type": "code",
   "execution_count": 6,
   "id": "7128c0b8-4f2c-492e-b9e6-a07e058326a6",
   "metadata": {},
   "outputs": [
    {
     "data": {
      "text/html": [
       "<div>\n",
       "<style scoped>\n",
       "    .dataframe tbody tr th:only-of-type {\n",
       "        vertical-align: middle;\n",
       "    }\n",
       "\n",
       "    .dataframe tbody tr th {\n",
       "        vertical-align: top;\n",
       "    }\n",
       "\n",
       "    .dataframe thead th {\n",
       "        text-align: right;\n",
       "    }\n",
       "</style>\n",
       "<table border=\"1\" class=\"dataframe\">\n",
       "  <thead>\n",
       "    <tr style=\"text-align: right;\">\n",
       "      <th></th>\n",
       "      <th>index</th>\n",
       "      <th>status</th>\n",
       "      <th>success</th>\n",
       "      <th>timestamp</th>\n",
       "      <th>numTrials</th>\n",
       "      <th>labname</th>\n",
       "      <th>uid</th>\n",
       "    </tr>\n",
       "  </thead>\n",
       "  <tbody>\n",
       "    <tr>\n",
       "      <th>0</th>\n",
       "      <td>0</td>\n",
       "      <td>checking</td>\n",
       "      <td>0</td>\n",
       "      <td>2020-04-16 21:12:50.740474</td>\n",
       "      <td>5</td>\n",
       "      <td>None</td>\n",
       "      <td>admin_1</td>\n",
       "    </tr>\n",
       "    <tr>\n",
       "      <th>1</th>\n",
       "      <td>1</td>\n",
       "      <td>ready</td>\n",
       "      <td>0</td>\n",
       "      <td>2020-04-16 21:12:54.708365</td>\n",
       "      <td>5</td>\n",
       "      <td>code_rvw</td>\n",
       "      <td>admin_1</td>\n",
       "    </tr>\n",
       "    <tr>\n",
       "      <th>2</th>\n",
       "      <td>2</td>\n",
       "      <td>checking</td>\n",
       "      <td>0</td>\n",
       "      <td>2020-04-16 21:46:47.769088</td>\n",
       "      <td>7</td>\n",
       "      <td>None</td>\n",
       "      <td>admin_1</td>\n",
       "    </tr>\n",
       "    <tr>\n",
       "      <th>3</th>\n",
       "      <td>3</td>\n",
       "      <td>ready</td>\n",
       "      <td>0</td>\n",
       "      <td>2020-04-16 21:46:48.121217</td>\n",
       "      <td>7</td>\n",
       "      <td>lab02</td>\n",
       "      <td>admin_1</td>\n",
       "    </tr>\n",
       "    <tr>\n",
       "      <th>4</th>\n",
       "      <td>4</td>\n",
       "      <td>checking</td>\n",
       "      <td>0</td>\n",
       "      <td>2020-04-16 21:53:01.862637</td>\n",
       "      <td>6</td>\n",
       "      <td>code_rvw</td>\n",
       "      <td>admin_1</td>\n",
       "    </tr>\n",
       "    <tr>\n",
       "      <th>5</th>\n",
       "      <td>5</td>\n",
       "      <td>ready</td>\n",
       "      <td>0</td>\n",
       "      <td>2020-04-16 21:53:05.373389</td>\n",
       "      <td>6</td>\n",
       "      <td>code_rvw</td>\n",
       "      <td>admin_1</td>\n",
       "    </tr>\n",
       "    <tr>\n",
       "      <th>6</th>\n",
       "      <td>6</td>\n",
       "      <td>checking</td>\n",
       "      <td>0</td>\n",
       "      <td>2020-04-17 05:18:51.965864</td>\n",
       "      <td>1</td>\n",
       "      <td>None</td>\n",
       "      <td>None</td>\n",
       "    </tr>\n",
       "    <tr>\n",
       "      <th>7</th>\n",
       "      <td>7</td>\n",
       "      <td>ready</td>\n",
       "      <td>0</td>\n",
       "      <td>2020-04-17 05:19:02.744528</td>\n",
       "      <td>1</td>\n",
       "      <td>project1</td>\n",
       "      <td>user_4</td>\n",
       "    </tr>\n",
       "    <tr>\n",
       "      <th>8</th>\n",
       "      <td>8</td>\n",
       "      <td>checking</td>\n",
       "      <td>0</td>\n",
       "      <td>2020-04-17 05:22:35.249331</td>\n",
       "      <td>2</td>\n",
       "      <td>project1</td>\n",
       "      <td>user_4</td>\n",
       "    </tr>\n",
       "    <tr>\n",
       "      <th>9</th>\n",
       "      <td>9</td>\n",
       "      <td>ready</td>\n",
       "      <td>1</td>\n",
       "      <td>2020-04-17 05:22:45.549397</td>\n",
       "      <td>2</td>\n",
       "      <td>project1</td>\n",
       "      <td>user_4</td>\n",
       "    </tr>\n",
       "  </tbody>\n",
       "</table>\n",
       "</div>"
      ],
      "text/plain": [
       "   index    status  success                   timestamp  numTrials   labname  \\\n",
       "0      0  checking        0  2020-04-16 21:12:50.740474          5      None   \n",
       "1      1     ready        0  2020-04-16 21:12:54.708365          5  code_rvw   \n",
       "2      2  checking        0  2020-04-16 21:46:47.769088          7      None   \n",
       "3      3     ready        0  2020-04-16 21:46:48.121217          7     lab02   \n",
       "4      4  checking        0  2020-04-16 21:53:01.862637          6  code_rvw   \n",
       "5      5     ready        0  2020-04-16 21:53:05.373389          6  code_rvw   \n",
       "6      6  checking        0  2020-04-17 05:18:51.965864          1      None   \n",
       "7      7     ready        0  2020-04-17 05:19:02.744528          1  project1   \n",
       "8      8  checking        0  2020-04-17 05:22:35.249331          2  project1   \n",
       "9      9     ready        1  2020-04-17 05:22:45.549397          2  project1   \n",
       "\n",
       "       uid  \n",
       "0  admin_1  \n",
       "1  admin_1  \n",
       "2  admin_1  \n",
       "3  admin_1  \n",
       "4  admin_1  \n",
       "5  admin_1  \n",
       "6     None  \n",
       "7   user_4  \n",
       "8   user_4  \n",
       "9   user_4  "
      ]
     },
     "execution_count": 6,
     "metadata": {},
     "output_type": "execute_result"
    }
   ],
   "source": [
    "pd.read_sql('SELECT * FROM checker LIMIT 10;', con)"
   ]
  },
  {
   "cell_type": "markdown",
   "id": "91c5dd2d-1bcd-4641-837b-cc264d69a0be",
   "metadata": {},
   "source": [
    "<h2>Таблица deadlines</h2>"
   ]
  },
  {
   "cell_type": "code",
   "execution_count": 18,
   "id": "10fe1bdf-23fa-47ff-ba61-45cf3e95d91b",
   "metadata": {},
   "outputs": [
    {
     "data": {
      "text/html": [
       "<div>\n",
       "<style scoped>\n",
       "    .dataframe tbody tr th:only-of-type {\n",
       "        vertical-align: middle;\n",
       "    }\n",
       "\n",
       "    .dataframe tbody tr th {\n",
       "        vertical-align: top;\n",
       "    }\n",
       "\n",
       "    .dataframe thead th {\n",
       "        text-align: right;\n",
       "    }\n",
       "</style>\n",
       "<table border=\"1\" class=\"dataframe\">\n",
       "  <thead>\n",
       "    <tr style=\"text-align: right;\">\n",
       "      <th></th>\n",
       "      <th>cid</th>\n",
       "      <th>name</th>\n",
       "      <th>type</th>\n",
       "      <th>notnull</th>\n",
       "      <th>dflt_value</th>\n",
       "      <th>pk</th>\n",
       "    </tr>\n",
       "  </thead>\n",
       "  <tbody>\n",
       "    <tr>\n",
       "      <th>0</th>\n",
       "      <td>0</td>\n",
       "      <td>index</td>\n",
       "      <td>INTEGER</td>\n",
       "      <td>0</td>\n",
       "      <td>None</td>\n",
       "      <td>0</td>\n",
       "    </tr>\n",
       "    <tr>\n",
       "      <th>1</th>\n",
       "      <td>1</td>\n",
       "      <td>labs</td>\n",
       "      <td>TEXT</td>\n",
       "      <td>0</td>\n",
       "      <td>None</td>\n",
       "      <td>0</td>\n",
       "    </tr>\n",
       "    <tr>\n",
       "      <th>2</th>\n",
       "      <td>2</td>\n",
       "      <td>deadlines</td>\n",
       "      <td>INTEGER</td>\n",
       "      <td>0</td>\n",
       "      <td>None</td>\n",
       "      <td>0</td>\n",
       "    </tr>\n",
       "  </tbody>\n",
       "</table>\n",
       "</div>"
      ],
      "text/plain": [
       "   cid       name     type  notnull dflt_value  pk\n",
       "0    0      index  INTEGER        0       None   0\n",
       "1    1       labs     TEXT        0       None   0\n",
       "2    2  deadlines  INTEGER        0       None   0"
      ]
     },
     "execution_count": 18,
     "metadata": {},
     "output_type": "execute_result"
    }
   ],
   "source": [
    "pd.read_sql('PRAGMA table_info(deadlines);', con)\n"
   ]
  },
  {
   "cell_type": "code",
   "execution_count": 19,
   "id": "3bd5dd20-d56d-4201-afeb-9d52c7b1586d",
   "metadata": {},
   "outputs": [
    {
     "data": {
      "text/html": [
       "<div>\n",
       "<style scoped>\n",
       "    .dataframe tbody tr th:only-of-type {\n",
       "        vertical-align: middle;\n",
       "    }\n",
       "\n",
       "    .dataframe tbody tr th {\n",
       "        vertical-align: top;\n",
       "    }\n",
       "\n",
       "    .dataframe thead th {\n",
       "        text-align: right;\n",
       "    }\n",
       "</style>\n",
       "<table border=\"1\" class=\"dataframe\">\n",
       "  <thead>\n",
       "    <tr style=\"text-align: right;\">\n",
       "      <th></th>\n",
       "      <th>index</th>\n",
       "      <th>labs</th>\n",
       "      <th>deadlines</th>\n",
       "    </tr>\n",
       "  </thead>\n",
       "  <tbody>\n",
       "    <tr>\n",
       "      <th>0</th>\n",
       "      <td>0</td>\n",
       "      <td>laba04</td>\n",
       "      <td>1587945599</td>\n",
       "    </tr>\n",
       "    <tr>\n",
       "      <th>1</th>\n",
       "      <td>1</td>\n",
       "      <td>laba04s</td>\n",
       "      <td>1587945599</td>\n",
       "    </tr>\n",
       "    <tr>\n",
       "      <th>2</th>\n",
       "      <td>2</td>\n",
       "      <td>laba05</td>\n",
       "      <td>1588550399</td>\n",
       "    </tr>\n",
       "    <tr>\n",
       "      <th>3</th>\n",
       "      <td>4</td>\n",
       "      <td>laba06</td>\n",
       "      <td>1590364799</td>\n",
       "    </tr>\n",
       "    <tr>\n",
       "      <th>4</th>\n",
       "      <td>5</td>\n",
       "      <td>laba06s</td>\n",
       "      <td>1590364799</td>\n",
       "    </tr>\n",
       "    <tr>\n",
       "      <th>5</th>\n",
       "      <td>3</td>\n",
       "      <td>project1</td>\n",
       "      <td>1589673599</td>\n",
       "    </tr>\n",
       "  </tbody>\n",
       "</table>\n",
       "</div>"
      ],
      "text/plain": [
       "   index      labs   deadlines\n",
       "0      0    laba04  1587945599\n",
       "1      1   laba04s  1587945599\n",
       "2      2    laba05  1588550399\n",
       "3      4    laba06  1590364799\n",
       "4      5   laba06s  1590364799\n",
       "5      3  project1  1589673599"
      ]
     },
     "execution_count": 19,
     "metadata": {},
     "output_type": "execute_result"
    }
   ],
   "source": [
    "pd.read_sql('SELECT * FROM deadlines LIMIT 10;', con)\n"
   ]
  },
  {
   "cell_type": "markdown",
   "id": "892fbbfa-4df5-4757-aa64-3ec5ceff596e",
   "metadata": {},
   "source": [
    "Таблица **deadlines** состоит из двух колонок: *labs* - название лабки, *deadlines* - количество секунд с начала эпохи"
   ]
  },
  {
   "cell_type": "markdown",
   "id": "3834dbb7-bc09-4177-a88b-3a67f5c28493",
   "metadata": {},
   "source": [
    "Для проверки гипотезы мы должны получить соединенные данные по двум таблицам с помощью идентификатора пользователя *uid*. Притом нас будет интересовать как факт посещения новостного сайта именно самая первая дата посещения страницы пользователем, считается именно с этого момента пользователь активно пользуется ресурсом и с этого момента можно считать проанализировать влияние посещения пользователем сайта на сдачу лабок. Относительно данных о сдаче лабок нас интересует только записи о успешно сданных работах поэтому в запросе присутствуют следующие фильтры:\n",
    "<ul>\n",
    "    <li>status = 'ready', мы не хотим анализировать журналы, которые находятся в стадии проверки статуса</li>\n",
    "    <li>numTrials = 1, мы хотим анализировать только первые коммиты, потому что только они могут сказать нам, когда студент начал работать над лабкой</li>\n",
    "    <li>labnames должны быть из списка: 'laba04', 'laba04s', 'laba05', 'laba06', 'laba06s', 'project1'. Только они были активны во время эксперимента (по информации из источника)</li>\n",
    "</ul>"
   ]
  },
  {
   "cell_type": "code",
   "execution_count": 8,
   "id": "6bf10b66-a147-4fb2-9ff7-46f0b50ed0a4",
   "metadata": {},
   "outputs": [],
   "source": [
    "datamart = pd.read_sql(\"\"\"\n",
    "            SELECT c.uid, c.labname, c.timestamp as first_commit_ts, p.d as first_view_ts \n",
    "            FROM checker as c\n",
    "            LEFT JOIN (SELECT uid, min(datetime) as d FROM pageviews GROUP BY uid) as p ON c.uid = p.uid\n",
    "            WHERE status = 'ready' and numTrials = 1 and c.uid LIKE 'user%'\n",
    "                and labname in ('laba04', 'laba04s', 'laba05', 'laba06', 'laba06s', 'project1') ;\"\"\",\n",
    "                       con, parse_dates=['first_commit_ts', 'first_view_ts'])"
   ]
  },
  {
   "cell_type": "markdown",
   "id": "7013164d-4b89-43e3-8bb2-4d1b0ed263c4",
   "metadata": {},
   "source": [
    "Разделим данные на две группы: пользователи, которые посещали новостной сайт - тест-группа и пользователи, которые не посещали новостной портал - контрольная группа."
   ]
  },
  {
   "cell_type": "code",
   "execution_count": 9,
   "id": "1e2de604-7bc1-462d-b359-ee0108df5047",
   "metadata": {},
   "outputs": [],
   "source": [
    "test = datamart[~datamart.first_view_ts.isna()]"
   ]
  },
  {
   "cell_type": "code",
   "execution_count": 10,
   "id": "93dda3d8-5c02-4017-9dd2-5483b5317a4a",
   "metadata": {},
   "outputs": [
    {
     "name": "stdout",
     "output_type": "stream",
     "text": [
      "<class 'pandas.core.frame.DataFrame'>\n",
      "Index: 59 entries, 3 to 139\n",
      "Data columns (total 4 columns):\n",
      " #   Column           Non-Null Count  Dtype         \n",
      "---  ------           --------------  -----         \n",
      " 0   uid              59 non-null     object        \n",
      " 1   labname          59 non-null     object        \n",
      " 2   first_commit_ts  59 non-null     datetime64[ns]\n",
      " 3   first_view_ts    59 non-null     datetime64[ns]\n",
      "dtypes: datetime64[ns](2), object(2)\n",
      "memory usage: 2.3+ KB\n"
     ]
    }
   ],
   "source": [
    "test.info()"
   ]
  },
  {
   "cell_type": "code",
   "execution_count": 11,
   "id": "ee67d03e-f8f3-4814-899a-44aed63c86fb",
   "metadata": {},
   "outputs": [],
   "source": [
    "control = datamart[datamart.first_view_ts.isna()]"
   ]
  },
  {
   "cell_type": "markdown",
   "id": "f72a3078-2d99-470e-bd68-d51a76f4e4de",
   "metadata": {},
   "source": [
    "мы хотим проверить гипотезу о том, что пользователи, посетившие ленту новостей всего несколько раз, имеют меньшую разницу между первым коммитом и дедлайном. Для этого необходимо рассчитать коэффициент корреляции между количеством просмотров страниц и разницей. (не берем во внимание лабку 'project1', у нее более длительные сроки и она будет являться выбросом)"
   ]
  },
  {
   "cell_type": "code",
   "execution_count": 30,
   "id": "694ce184-acf2-4212-99e5-c69c0d1cc4ba",
   "metadata": {},
   "outputs": [],
   "source": [
    "views_diff = pd.read_sql(\"\"\"\n",
    "                SELECT t.uid, avg((CAST(strftime('%s', first_commit_ts) as integer) - deadlines) / 3600) as avg_diff, count(*) as pageviews\n",
    "                FROM test as t\n",
    "                JOIN deadlines as d ON d.labs =  t.labname AND t.labname <> 'project1' \n",
    "                JOIN pageviews p ON p.uid = t.uid\n",
    "                GROUP BY t.uid\"\"\", con)"
   ]
  },
  {
   "cell_type": "code",
   "execution_count": 31,
   "id": "bc88829f-e2ad-4434-b016-5fd3306fc99c",
   "metadata": {},
   "outputs": [
    {
     "data": {
      "text/html": [
       "<div>\n",
       "<style scoped>\n",
       "    .dataframe tbody tr th:only-of-type {\n",
       "        vertical-align: middle;\n",
       "    }\n",
       "\n",
       "    .dataframe tbody tr th {\n",
       "        vertical-align: top;\n",
       "    }\n",
       "\n",
       "    .dataframe thead th {\n",
       "        text-align: right;\n",
       "    }\n",
       "</style>\n",
       "<table border=\"1\" class=\"dataframe\">\n",
       "  <thead>\n",
       "    <tr style=\"text-align: right;\">\n",
       "      <th></th>\n",
       "      <th>uid</th>\n",
       "      <th>avg_diff</th>\n",
       "      <th>pageviews</th>\n",
       "    </tr>\n",
       "  </thead>\n",
       "  <tbody>\n",
       "    <tr>\n",
       "      <th>4</th>\n",
       "      <td>user_18</td>\n",
       "      <td>-5.666667</td>\n",
       "      <td>9</td>\n",
       "    </tr>\n",
       "    <tr>\n",
       "      <th>10</th>\n",
       "      <td>user_30</td>\n",
       "      <td>-145.250000</td>\n",
       "      <td>12</td>\n",
       "    </tr>\n",
       "    <tr>\n",
       "      <th>6</th>\n",
       "      <td>user_21</td>\n",
       "      <td>-95.500000</td>\n",
       "      <td>40</td>\n",
       "    </tr>\n",
       "    <tr>\n",
       "      <th>5</th>\n",
       "      <td>user_19</td>\n",
       "      <td>-98.750000</td>\n",
       "      <td>64</td>\n",
       "    </tr>\n",
       "    <tr>\n",
       "      <th>0</th>\n",
       "      <td>user_1</td>\n",
       "      <td>-64.400000</td>\n",
       "      <td>140</td>\n",
       "    </tr>\n",
       "    <tr>\n",
       "      <th>3</th>\n",
       "      <td>user_17</td>\n",
       "      <td>-61.600000</td>\n",
       "      <td>235</td>\n",
       "    </tr>\n",
       "    <tr>\n",
       "      <th>2</th>\n",
       "      <td>user_14</td>\n",
       "      <td>-159.000000</td>\n",
       "      <td>429</td>\n",
       "    </tr>\n",
       "    <tr>\n",
       "      <th>1</th>\n",
       "      <td>user_10</td>\n",
       "      <td>-74.800000</td>\n",
       "      <td>445</td>\n",
       "    </tr>\n",
       "    <tr>\n",
       "      <th>8</th>\n",
       "      <td>user_28</td>\n",
       "      <td>-86.400000</td>\n",
       "      <td>745</td>\n",
       "    </tr>\n",
       "    <tr>\n",
       "      <th>7</th>\n",
       "      <td>user_25</td>\n",
       "      <td>-92.600000</td>\n",
       "      <td>895</td>\n",
       "    </tr>\n",
       "    <tr>\n",
       "      <th>9</th>\n",
       "      <td>user_3</td>\n",
       "      <td>-105.400000</td>\n",
       "      <td>1585</td>\n",
       "    </tr>\n",
       "  </tbody>\n",
       "</table>\n",
       "</div>"
      ],
      "text/plain": [
       "        uid    avg_diff  pageviews\n",
       "4   user_18   -5.666667          9\n",
       "10  user_30 -145.250000         12\n",
       "6   user_21  -95.500000         40\n",
       "5   user_19  -98.750000         64\n",
       "0    user_1  -64.400000        140\n",
       "3   user_17  -61.600000        235\n",
       "2   user_14 -159.000000        429\n",
       "1   user_10  -74.800000        445\n",
       "8   user_28  -86.400000        745\n",
       "7   user_25  -92.600000        895\n",
       "9    user_3 -105.400000       1585"
      ]
     },
     "execution_count": 31,
     "metadata": {},
     "output_type": "execute_result"
    }
   ],
   "source": [
    "views_diff.sort_values('pageviews')"
   ]
  },
  {
   "cell_type": "markdown",
   "id": "74182f9b-ea59-4f90-9a35-66e0b148dcec",
   "metadata": {},
   "source": [
    "Можно заметить, что с небольшим количеством посещений новостного портала, разница между дедлайном и сдаче работы гораздо меньше, чем с большим числом посещений страницы. Далее посчитаем корреляционный коэффициент."
   ]
  },
  {
   "cell_type": "code",
   "execution_count": 32,
   "id": "9dc1762f-0520-42c9-bf40-78c797b3766a",
   "metadata": {},
   "outputs": [
    {
     "data": {
      "text/html": [
       "<div>\n",
       "<style scoped>\n",
       "    .dataframe tbody tr th:only-of-type {\n",
       "        vertical-align: middle;\n",
       "    }\n",
       "\n",
       "    .dataframe tbody tr th {\n",
       "        vertical-align: top;\n",
       "    }\n",
       "\n",
       "    .dataframe thead th {\n",
       "        text-align: right;\n",
       "    }\n",
       "</style>\n",
       "<table border=\"1\" class=\"dataframe\">\n",
       "  <thead>\n",
       "    <tr style=\"text-align: right;\">\n",
       "      <th></th>\n",
       "      <th>avg_diff</th>\n",
       "      <th>pageviews</th>\n",
       "    </tr>\n",
       "  </thead>\n",
       "  <tbody>\n",
       "    <tr>\n",
       "      <th>avg_diff</th>\n",
       "      <td>1.000000</td>\n",
       "      <td>-0.185834</td>\n",
       "    </tr>\n",
       "    <tr>\n",
       "      <th>pageviews</th>\n",
       "      <td>-0.185834</td>\n",
       "      <td>1.000000</td>\n",
       "    </tr>\n",
       "  </tbody>\n",
       "</table>\n",
       "</div>"
      ],
      "text/plain": [
       "           avg_diff  pageviews\n",
       "avg_diff   1.000000  -0.185834\n",
       "pageviews -0.185834   1.000000"
      ]
     },
     "execution_count": 32,
     "metadata": {},
     "output_type": "execute_result"
    }
   ],
   "source": [
    "views_diff.corr(numeric_only=True)"
   ]
  },
  {
   "cell_type": "markdown",
   "id": "28f90fe6-edca-4d8a-acfe-9bea70bf2e6f",
   "metadata": {},
   "source": [
    "Значение имеют слабую обратную корреляцию (обратная в связи с отрицательным знаком разницы) - значит есть зависимость между количеством просмотров \n",
    "новостной страницы и разницей между сдачей работы и дедлайном."
   ]
  },
  {
   "cell_type": "markdown",
   "id": "9cbf4893-973a-4d0e-a58f-84bcf7fa30e3",
   "metadata": {},
   "source": [
    "Итак... наконец выясним, повлияла ли лента новостей на поведение студентов. Начали ли они работать над лабораторными работами раньше? </br>\n",
    "Пора поставить гипотезу, которую мы хотим проверить. Разница между первым коммитом и дедлайном вырастет, если человек посмотрит новостную страницу до коммита - положительное влияние посещения новостного сайта.</br>\n",
    "Помните, что у нас есть две подготовленные таблицы в базе данных **test** и **control**. Проведем нечто похожее на A/B-тест. Нам нужно подсчитать, какой была дельта между первым коммитом и дедлайном до того, как они впервые посетили страницу, и после. То же самое нужно сделать и для контрольной группы. Другими словами, у каждого пользователя в тесте есть своя временная метка для первого посещения ленты новостей. Мы хотим вычислить среднюю дельту (первый коммит - дедлайн) до этой временной метки и после нее. То же самое мы сделаем для пользователей из контрольной группы. Но из-за того, что они вообще не посещали ленту новостей, я решил использовать среднюю временную метку первого просмотра из тестовой группы для пользователей из контрольной группы. Если дельта до первого посещения Ленты новостей значительно отличается от дельты после в тестовой группе, и мы не видим такого же эффекта в контрольной группе, то создание страницы было отличной идеей. Мы можем распространить ее на всю группу."
   ]
  },
  {
   "cell_type": "code",
   "execution_count": 33,
   "id": "b2b2e28e-20ff-463b-8043-8ac6103ef1ba",
   "metadata": {},
   "outputs": [
    {
     "name": "stderr",
     "output_type": "stream",
     "text": [
      "C:\\Users\\Ivan\\AppData\\Local\\Temp\\ipykernel_5440\\4099935974.py:1: SettingWithCopyWarning: \n",
      "A value is trying to be set on a copy of a slice from a DataFrame\n",
      "\n",
      "See the caveats in the documentation: https://pandas.pydata.org/pandas-docs/stable/user_guide/indexing.html#returning-a-view-versus-a-copy\n",
      "  control.fillna({'first_view_ts': test.first_view_ts.mean()}, inplace=True)\n"
     ]
    }
   ],
   "source": [
    "control.fillna({'first_view_ts': test.first_view_ts.mean()}, inplace=True)"
   ]
  },
  {
   "cell_type": "code",
   "execution_count": 39,
   "id": "068a766b-614e-4d2a-a9ab-92319416aabf",
   "metadata": {},
   "outputs": [
    {
     "data": {
      "text/plain": [
       "59"
      ]
     },
     "execution_count": 39,
     "metadata": {},
     "output_type": "execute_result"
    }
   ],
   "source": [
    "control.to_sql(name='control', con=con, index=False)\n",
    "test.to_sql(name='test', con=con, index=False)"
   ]
  },
  {
   "cell_type": "code",
   "execution_count": 41,
   "id": "a296ebfd-7bee-4eff-a5ed-7083d8d13183",
   "metadata": {},
   "outputs": [],
   "source": [
    "test_results = pd.read_sql(\"\"\"select time, avg(diff) avg_diff from (\n",
    "                select \n",
    "                    case when first_commit_ts <= first_view_ts then 'before' else 'after' end as time,\n",
    "                    (CAST(strftime('%s', first_commit_ts) as integer) - deadlines) / 3600 as diff\n",
    "                from test t\n",
    "                join deadlines d on t.labname = d.labs and t.labname <> 'project1') t\n",
    "                group by time                \n",
    "                    \"\"\", con)"
   ]
  },
  {
   "cell_type": "code",
   "execution_count": 43,
   "id": "28c52c98-fc3a-4aa9-9dca-d99022db491a",
   "metadata": {},
   "outputs": [
    {
     "data": {
      "text/html": [
       "<div>\n",
       "<style scoped>\n",
       "    .dataframe tbody tr th:only-of-type {\n",
       "        vertical-align: middle;\n",
       "    }\n",
       "\n",
       "    .dataframe tbody tr th {\n",
       "        vertical-align: top;\n",
       "    }\n",
       "\n",
       "    .dataframe thead th {\n",
       "        text-align: right;\n",
       "    }\n",
       "</style>\n",
       "<table border=\"1\" class=\"dataframe\">\n",
       "  <thead>\n",
       "    <tr style=\"text-align: right;\">\n",
       "      <th></th>\n",
       "      <th>time</th>\n",
       "      <th>avg_diff</th>\n",
       "    </tr>\n",
       "  </thead>\n",
       "  <tbody>\n",
       "    <tr>\n",
       "      <th>0</th>\n",
       "      <td>after</td>\n",
       "      <td>-103.40625</td>\n",
       "    </tr>\n",
       "    <tr>\n",
       "      <th>1</th>\n",
       "      <td>before</td>\n",
       "      <td>-60.56250</td>\n",
       "    </tr>\n",
       "  </tbody>\n",
       "</table>\n",
       "</div>"
      ],
      "text/plain": [
       "     time   avg_diff\n",
       "0   after -103.40625\n",
       "1  before  -60.56250"
      ]
     },
     "execution_count": 43,
     "metadata": {},
     "output_type": "execute_result"
    }
   ],
   "source": [
    "test_results"
   ]
  },
  {
   "cell_type": "markdown",
   "id": "07bfd109-a9f1-4b91-938d-ea46f27e8eea",
   "metadata": {},
   "source": [
    "Заметим большую разницу в значения разности между событиями До просмотра страницы и После - говорит о верности поставленной гипотезы H1."
   ]
  },
  {
   "cell_type": "code",
   "execution_count": 42,
   "id": "98c30ebb-c904-4d85-b955-f00c37f2aed9",
   "metadata": {},
   "outputs": [],
   "source": [
    "control_results = pd.read_sql(\"\"\"select time, avg(diff) avg_diff from (\n",
    "                select \n",
    "                    case when first_commit_ts <= first_view_ts then 'before' else 'after' end as time,\n",
    "                    (CAST(strftime('%s', first_commit_ts) as integer) - deadlines) / 3600 as diff\n",
    "                from control t\n",
    "                join deadlines d on t.labname = d.labs and t.labname <> 'project1') t\n",
    "                group by time                \n",
    "                    \"\"\", con)"
   ]
  },
  {
   "cell_type": "code",
   "execution_count": 44,
   "id": "ff417c1e-bb66-4136-b48b-00fc969eddac",
   "metadata": {},
   "outputs": [
    {
     "data": {
      "text/html": [
       "<div>\n",
       "<style scoped>\n",
       "    .dataframe tbody tr th:only-of-type {\n",
       "        vertical-align: middle;\n",
       "    }\n",
       "\n",
       "    .dataframe tbody tr th {\n",
       "        vertical-align: top;\n",
       "    }\n",
       "\n",
       "    .dataframe thead th {\n",
       "        text-align: right;\n",
       "    }\n",
       "</style>\n",
       "<table border=\"1\" class=\"dataframe\">\n",
       "  <thead>\n",
       "    <tr style=\"text-align: right;\">\n",
       "      <th></th>\n",
       "      <th>time</th>\n",
       "      <th>avg_diff</th>\n",
       "    </tr>\n",
       "  </thead>\n",
       "  <tbody>\n",
       "    <tr>\n",
       "      <th>0</th>\n",
       "      <td>after</td>\n",
       "      <td>-112.710526</td>\n",
       "    </tr>\n",
       "    <tr>\n",
       "      <th>1</th>\n",
       "      <td>before</td>\n",
       "      <td>-99.464286</td>\n",
       "    </tr>\n",
       "  </tbody>\n",
       "</table>\n",
       "</div>"
      ],
      "text/plain": [
       "     time    avg_diff\n",
       "0   after -112.710526\n",
       "1  before  -99.464286"
      ]
     },
     "execution_count": 44,
     "metadata": {},
     "output_type": "execute_result"
    }
   ],
   "source": [
    "control_results"
   ]
  },
  {
   "cell_type": "markdown",
   "id": "af91ee09-975c-450a-9cfc-cfd549483da6",
   "metadata": {},
   "source": [
    "Видим, что противоположная гипотеза, в этом случае тоже верна, для людей не посещавщих страницы особой разницы в значениях не замечено."
   ]
  },
  {
   "cell_type": "markdown",
   "id": "27bd20d8-1c59-4159-ab4f-14c2e64b1bc9",
   "metadata": {},
   "source": [
    "Решение выполнено через базы данных, так как подобранный мной датасет представляет собой базу данных и ресурс из которого я его взял подразумевал работу с базой данных (источник School 21 ссылка <a href=\"https://drive.google.com/file/d/1zQ8AR2Ry3ajzB3UZO1Sfk3xtDJlzQF2M/view\">ТЫК</a>. Также мне удобно было решить задачу в таком формате, так как я SQL-разработчик и в базе работать удобнее, пока мы не изучили инструмента удобнее."
   ]
  }
 ],
 "metadata": {
  "kernelspec": {
   "display_name": "Python 3 (ipykernel)",
   "language": "python",
   "name": "python3"
  },
  "language_info": {
   "codemirror_mode": {
    "name": "ipython",
    "version": 3
   },
   "file_extension": ".py",
   "mimetype": "text/x-python",
   "name": "python",
   "nbconvert_exporter": "python",
   "pygments_lexer": "ipython3",
   "version": "3.11.1"
  }
 },
 "nbformat": 4,
 "nbformat_minor": 5
}
