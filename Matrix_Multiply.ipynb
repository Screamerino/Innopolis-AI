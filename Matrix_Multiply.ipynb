{
 "cells": [
  {
   "cell_type": "code",
   "execution_count": 4,
   "id": "998a763c-84cd-41c4-af9f-7eb941677dc3",
   "metadata": {},
   "outputs": [],
   "source": [
    "from itertools import tee"
   ]
  },
  {
   "cell_type": "code",
   "execution_count": 14,
   "id": "88b38eac-ed24-416b-8961-04bf2f737b9f",
   "metadata": {},
   "outputs": [],
   "source": [
    "def print_matrix(m):\n",
    "    for row in m:\n",
    "        print(*row, sep='\\t')"
   ]
  },
  {
   "cell_type": "code",
   "execution_count": 5,
   "id": "a1ba8560-00e0-48d5-a8a3-035628383081",
   "metadata": {},
   "outputs": [],
   "source": [
    "def multiply(a, b):\n",
    "    b_iter = tee(zip(*b), len(a))\n",
    "    return [\n",
    "        [\n",
    "            sum(ele_a*ele_b for ele_a, ele_b in zip(row_a, col_b))\n",
    "            for col_b in b_iter[i]\n",
    "        ] for i, row_a in enumerate(a)\n",
    "    ]"
   ]
  },
  {
   "cell_type": "code",
   "execution_count": 16,
   "id": "98eff015-b8db-4982-9386-bd3603d56eb1",
   "metadata": {},
   "outputs": [
    {
     "data": {
      "text/plain": [
       "[[10]]"
      ]
     },
     "execution_count": 16,
     "metadata": {},
     "output_type": "execute_result"
    }
   ],
   "source": [
    "m1 = [[6, -8, 3]]\n",
    "m2 = [\n",
    "    [1],\n",
    "    [1],\n",
    "    [4],\n",
    "]\n",
    "multiply(m1, m2)"
   ]
  },
  {
   "cell_type": "code",
   "execution_count": 15,
   "id": "480e8d3f-4921-411d-82f5-bd9f1880ab52",
   "metadata": {},
   "outputs": [
    {
     "name": "stdout",
     "output_type": "stream",
     "text": [
      "-4\t-13\n",
      "104\t-102\n",
      "-24\t12\n",
      "-4\t-3\n"
     ]
    }
   ],
   "source": [
    "m1 = [\n",
    "    [-3, -7],\n",
    "    [-10, 6],\n",
    "    [0, -6],\n",
    "    [-1, -3],\n",
    "]\n",
    "m2 = [\n",
    "    [-8, 9],\n",
    "    [4, -2],\n",
    "]\n",
    "print_matrix(multiply(m1, m2))"
   ]
  }
 ],
 "metadata": {
  "kernelspec": {
   "display_name": "Python 3 (ipykernel)",
   "language": "python",
   "name": "python3"
  },
  "language_info": {
   "codemirror_mode": {
    "name": "ipython",
    "version": 3
   },
   "file_extension": ".py",
   "mimetype": "text/x-python",
   "name": "python",
   "nbconvert_exporter": "python",
   "pygments_lexer": "ipython3",
   "version": "3.11.1"
  }
 },
 "nbformat": 4,
 "nbformat_minor": 5
}
